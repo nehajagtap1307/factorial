{
  "nbformat": 4,
  "nbformat_minor": 0,
  "metadata": {
    "colab": {
      "provenance": []
    },
    "kernelspec": {
      "name": "python3",
      "display_name": "Python 3"
    },
    "language_info": {
      "name": "python"
    }
  },
  "cells": [
    {
      "cell_type": "code",
      "execution_count": 11,
      "metadata": {
        "colab": {
          "base_uri": "https://localhost:8080/"
        },
        "id": "UrNAVIT1cQnj",
        "outputId": "fa580503-34b9-453b-e78f-24e6900dd3ce"
      },
      "outputs": [
        {
          "output_type": "stream",
          "name": "stdout",
          "text": [
            "enter a positive number0\n",
            "factorial of 0 is 1\n"
          ]
        }
      ],
      "source": [
        "# factorial using iterative version\n",
        "def factorial(n):\n",
        "  product = 1\n",
        "\n",
        "  for i in range(1,n+1):\n",
        "    product=product*i\n",
        "  return product\n",
        "\n",
        "n=int(input(\"enter a positive number\"))\n",
        "if n<0:\n",
        "  print(\"factorial is not defined for negative integers\")\n",
        "\n",
        "else:\n",
        "  f=factorial(n)\n",
        "  print(\"factorial of\",n, \"is\",f)"
      ]
    },
    {
      "cell_type": "code",
      "source": [
        "#factorial using recursive version\n",
        "#fact(n)=n*fact(n-1)\n",
        "#fact(0)=1\n",
        "def factorial(n):\n",
        "  if n==0:      # base case - point where recursion stops\n",
        "    return 1\n",
        "  else:\n",
        "    return n*factorial(n-1)\n",
        "n=int(input(\"enter a positive number\"))\n",
        "if n<0:\n",
        "  print(\"factorial is not defined for negative integers\")\n",
        "\n",
        "else:\n",
        "  f=factorial(n)\n",
        "  print(\"factorial of\",n, \"is\",f)"
      ],
      "metadata": {
        "colab": {
          "base_uri": "https://localhost:8080/"
        },
        "id": "3p3mdzeoeSkD",
        "outputId": "cfe8e5a0-f6d0-4801-8960-2ac770f105d3"
      },
      "execution_count": 13,
      "outputs": [
        {
          "output_type": "stream",
          "name": "stdout",
          "text": [
            "enter a positive number5\n",
            "factorial of 5 is 120\n"
          ]
        }
      ]
    }
  ]
}